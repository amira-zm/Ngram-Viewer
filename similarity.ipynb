{
 "cells": [
  {
   "cell_type": "code",
   "execution_count": 1,
   "metadata": {},
   "outputs": [],
   "source": [
    "# Imports\n",
    "import numpy as np\n",
    "import seaborn as sns\n",
    "import pandas as pd\n",
    "import matplotlib.pyplot as plt\n",
    "from sklearn.feature_extraction.text import TfidfVectorizer\n",
    "from sklearn.metrics.pairwise import cosine_similarity\n",
    "\n",
    "\n"
   ]
  },
  {
   "cell_type": "code",
   "execution_count": 2,
   "metadata": {},
   "outputs": [],
   "source": [
    "# Load Datasets\n",
    "books = pd.read_csv('Dataset/books.csv')\n",
    "ratings = pd.read_csv('Dataset/ratings.csv')\n",
    "tags = pd.read_csv('Dataset/tags.csv')\n",
    "book_tags = pd.read_csv('Dataset/book_tags.csv')"
   ]
  },
  {
   "cell_type": "code",
   "execution_count": null,
   "metadata": {},
   "outputs": [],
   "source": []
  },
  {
   "cell_type": "code",
   "execution_count": null,
   "metadata": {},
   "outputs": [],
   "source": []
  },
  {
   "cell_type": "code",
   "execution_count": null,
   "metadata": {},
   "outputs": [],
   "source": []
  },
  {
   "cell_type": "code",
   "execution_count": 3,
   "metadata": {},
   "outputs": [],
   "source": [
    "# Delete NaN values of original_publication_year\n",
    "for x in [\"original_publication_year\"]:\n",
    "    books = books[books[x].notnull()]\n",
    "\n",
    "# Delete negative values\n",
    "books = books[(books['original_publication_year'] >= 0)]\n"
   ]
  },
  {
   "cell_type": "code",
   "execution_count": null,
   "metadata": {},
   "outputs": [],
   "source": []
  },
  {
   "cell_type": "code",
   "execution_count": null,
   "metadata": {},
   "outputs": [],
   "source": []
  },
  {
   "cell_type": "code",
   "execution_count": null,
   "metadata": {},
   "outputs": [],
   "source": []
  },
  {
   "cell_type": "code",
   "execution_count": null,
   "metadata": {},
   "outputs": [],
   "source": []
  },
  {
   "cell_type": "code",
   "execution_count": 4,
   "metadata": {},
   "outputs": [],
   "source": [
    "# Grouping by the book_id to know how many ratings have each book\n",
    "rating_book = ratings.groupby('book_id').book_id.apply(lambda x: len(x)).sort_values()\n"
   ]
  },
  {
   "cell_type": "code",
   "execution_count": 5,
   "metadata": {},
   "outputs": [],
   "source": [
    "rating_user = ratings.groupby('user_id').user_id.apply(lambda x: len(x)).sort_values()\n"
   ]
  },
  {
   "cell_type": "code",
   "execution_count": null,
   "metadata": {},
   "outputs": [],
   "source": []
  },
  {
   "cell_type": "code",
   "execution_count": null,
   "metadata": {},
   "outputs": [],
   "source": []
  },
  {
   "cell_type": "code",
   "execution_count": 6,
   "metadata": {},
   "outputs": [],
   "source": [
    "# Merge the two datasets grouping by the tag_id. \n",
    "data = pd.merge(book_tags, tags, left_on='tag_id', right_on='tag_id', how='inner')\n",
    "\n",
    "titles = books[['book_id','title','goodreads_book_id','authors']]\n",
    "\n",
    "# Merge the book dataset with the new one to know the title and the author\n",
    "data = pd.merge(titles, data, left_on='goodreads_book_id', right_on='goodreads_book_id')\n"
   ]
  },
  {
   "cell_type": "code",
   "execution_count": null,
   "metadata": {},
   "outputs": [],
   "source": []
  },
  {
   "cell_type": "code",
   "execution_count": null,
   "metadata": {},
   "outputs": [],
   "source": []
  },
  {
   "cell_type": "code",
   "execution_count": null,
   "metadata": {},
   "outputs": [],
   "source": []
  },
  {
   "cell_type": "code",
   "execution_count": null,
   "metadata": {},
   "outputs": [],
   "source": []
  },
  {
   "cell_type": "code",
   "execution_count": null,
   "metadata": {},
   "outputs": [],
   "source": []
  },
  {
   "cell_type": "code",
   "execution_count": null,
   "metadata": {},
   "outputs": [],
   "source": []
  },
  {
   "cell_type": "code",
   "execution_count": 7,
   "metadata": {},
   "outputs": [
    {
     "name": "stderr",
     "output_type": "stream",
     "text": [
      "<ipython-input-7-0891b765a168>:1: FutureWarning: Passing a negative integer is deprecated in version 1.0 and will not be supported in future version. Instead, use None to not limit the column width.\n",
      "  pd.set_option('display.max_colwidth', -1)\n"
     ]
    }
   ],
   "source": [
    "pd.set_option('display.max_colwidth', -1)\n"
   ]
  },
  {
   "cell_type": "code",
   "execution_count": null,
   "metadata": {},
   "outputs": [],
   "source": []
  },
  {
   "cell_type": "code",
   "execution_count": 8,
   "metadata": {},
   "outputs": [],
   "source": [
    "# For each book, join all their tags\n",
    "list_tags = data.groupby(by='goodreads_book_id')['tag_name'].apply(set).apply(list)\n",
    "\n",
    "# Append this list of tags on the books dataset\n",
    "books['tags'] = books['goodreads_book_id'].apply(lambda x: ' '.join(list_tags[x]))"
   ]
  },
  {
   "cell_type": "code",
   "execution_count": 9,
   "metadata": {},
   "outputs": [],
   "source": [
    "pd.reset_option('max_colwidth')\n"
   ]
  },
  {
   "cell_type": "code",
   "execution_count": 33,
   "metadata": {},
   "outputs": [],
   "source": [
    "# Function to get the index of the book given its title. \n",
    "def get_book_id(book_title):\n",
    "    index = books.index[books['original_title'] == book_title].to_list()\n",
    "    if index:\n",
    "        return index[0]\n",
    "    else:\n",
    "        return None\n",
    "def get_book_id_isbn(isbn):\n",
    "    index = books.index[books['isbn'] == isbn].to_list()\n",
    "    if index:\n",
    "        return index[0]\n",
    "    else:\n",
    "        return None\n",
    "# Function to get the title of a book given its id.\n",
    "def get_book_title(book_id):\n",
    "    \n",
    "    title = books.iloc[book_id]['original_title']\n",
    "    if(title==\"NaN\"):\n",
    "        title = books.iloc[book_id]['title']\n",
    "    return title\n",
    "\n",
    "def get_book_image(book_id):\n",
    "    image = books.iloc[book_id]['image_url']\n",
    "    return image\n",
    "\n",
    "def get_book_isbn(book_id):\n",
    "    isbn = books.iloc[book_id]['isbn']\n",
    "    return isbn\n",
    "def get_book_authors(book_id):\n",
    "    authors = books.iloc[book_id]['authors']\n",
    "    return authors\n",
    "\n",
    "# Function that takes the book title and returns the most similar books.\n",
    "def get_similar_books(title, n=5):\n",
    "    \n",
    "    # Get the book id\n",
    "    book_id = get_book_id(title)\n",
    "    \n",
    "    if book_id is None:\n",
    "        print(\"Book not found.\")\n",
    "    else:\n",
    "        \n",
    "        # Get the pariwsie similarity scores of all books with that book\n",
    "        book_similarities = list(enumerate(similarities[book_id]))\n",
    "        \n",
    "        # Sort the books based on the similarity scores\n",
    "        book_similarities = sorted(book_similarities, key=lambda x: x[1], reverse=True)\n",
    "        \n",
    "        # Get the scores of the 5 most similar book\n",
    "        most_similar_books = book_similarities[1:1+n]\n",
    "        most_similar_books = list(map(lambda x: (get_book_title(x[0]), round(x[1], 2)),most_similar_books))\n",
    "        \n",
    "        most_similar_books_df = pd.DataFrame(most_similar_books, columns=['Title', 'Similarity'])\n",
    "        print(\"For this book we will recommand you:\\n\")\n",
    "        \n",
    "        return most_similar_books_df"
   ]
  },
  {
   "cell_type": "code",
   "execution_count": 34,
   "metadata": {},
   "outputs": [],
   "source": [
    "tfidf = TfidfVectorizer(stop_words='english')\n",
    "\n",
    "tfidf_matrix = tfidf.fit_transform(books['tags'])"
   ]
  },
  {
   "cell_type": "code",
   "execution_count": 35,
   "metadata": {},
   "outputs": [],
   "source": [
    "similarities = cosine_similarity(tfidf_matrix, tfidf_matrix)"
   ]
  },
  {
   "cell_type": "code",
   "execution_count": 36,
   "metadata": {
    "scrolled": true
   },
   "outputs": [
    {
     "name": "stdout",
     "output_type": "stream",
     "text": [
      "Mind Prey\n",
      "For this book we will recommand you:\n",
      "\n"
     ]
    },
    {
     "data": {
      "text/html": [
       "<div>\n",
       "<style scoped>\n",
       "    .dataframe tbody tr th:only-of-type {\n",
       "        vertical-align: middle;\n",
       "    }\n",
       "\n",
       "    .dataframe tbody tr th {\n",
       "        vertical-align: top;\n",
       "    }\n",
       "\n",
       "    .dataframe thead th {\n",
       "        text-align: right;\n",
       "    }\n",
       "</style>\n",
       "<table border=\"1\" class=\"dataframe\">\n",
       "  <thead>\n",
       "    <tr style=\"text-align: right;\">\n",
       "      <th></th>\n",
       "      <th>Title</th>\n",
       "      <th>authors</th>\n",
       "      <th>image</th>\n",
       "      <th>Similarity</th>\n",
       "    </tr>\n",
       "  </thead>\n",
       "  <tbody>\n",
       "    <tr>\n",
       "      <th>0</th>\n",
       "      <td>The King of Attolia</td>\n",
       "      <td>Megan Whalen Turner</td>\n",
       "      <td>https://images.gr-assets.com/books/1293505327m...</td>\n",
       "      <td>0.81</td>\n",
       "    </tr>\n",
       "    <tr>\n",
       "      <th>1</th>\n",
       "      <td>NaN</td>\n",
       "      <td>Fisher Amelie</td>\n",
       "      <td>https://images.gr-assets.com/books/1376504907m...</td>\n",
       "      <td>0.80</td>\n",
       "    </tr>\n",
       "    <tr>\n",
       "      <th>2</th>\n",
       "      <td>The Importance of Being Earnest</td>\n",
       "      <td>Oscar Wilde</td>\n",
       "      <td>https://s.gr-assets.com/assets/nophoto/book/11...</td>\n",
       "      <td>0.79</td>\n",
       "    </tr>\n",
       "    <tr>\n",
       "      <th>3</th>\n",
       "      <td>Пикник на обочине</td>\n",
       "      <td>Arkady Strugatsky, Boris Strugatsky, Antonina ...</td>\n",
       "      <td>https://s.gr-assets.com/assets/nophoto/book/11...</td>\n",
       "      <td>0.77</td>\n",
       "    </tr>\n",
       "    <tr>\n",
       "      <th>4</th>\n",
       "      <td>How to Be Good</td>\n",
       "      <td>Nick Hornby</td>\n",
       "      <td>https://images.gr-assets.com/books/1327935893m...</td>\n",
       "      <td>0.76</td>\n",
       "    </tr>\n",
       "  </tbody>\n",
       "</table>\n",
       "</div>"
      ],
      "text/plain": [
       "                             Title  \\\n",
       "0              The King of Attolia   \n",
       "1                              NaN   \n",
       "2  The Importance of Being Earnest   \n",
       "3                Пикник на обочине   \n",
       "4                   How to Be Good   \n",
       "\n",
       "                                             authors  \\\n",
       "0                                Megan Whalen Turner   \n",
       "1                                      Fisher Amelie   \n",
       "2                                        Oscar Wilde   \n",
       "3  Arkady Strugatsky, Boris Strugatsky, Antonina ...   \n",
       "4                                        Nick Hornby   \n",
       "\n",
       "                                               image  Similarity  \n",
       "0  https://images.gr-assets.com/books/1293505327m...        0.81  \n",
       "1  https://images.gr-assets.com/books/1376504907m...        0.80  \n",
       "2  https://s.gr-assets.com/assets/nophoto/book/11...        0.79  \n",
       "3  https://s.gr-assets.com/assets/nophoto/book/11...        0.77  \n",
       "4  https://images.gr-assets.com/books/1327935893m...        0.76  "
      ]
     },
     "execution_count": 36,
     "metadata": {},
     "output_type": "execute_result"
    }
   ],
   "source": [
    "def similar (isbn):\n",
    "    \n",
    "    book_id=get_book_id_isbn(isbn)\n",
    "    book_title=get_book_title(book_id)\n",
    "    print(book_title)\n",
    "    result=get_similar_books(book_title)\n",
    "    df = pd.DataFrame(columns=['Title','authors','image','Similarity'])\n",
    "    for b in result.index:\n",
    "        \n",
    "        df1={'Title':get_book_title(get_book_id((result['Title'][b]))),'authors':get_book_authors(get_book_id((result['Title'][b]))),'image':get_book_image(get_book_id((result['Title'][b]))),'Similarity':result['Similarity'][b]}\n",
    "        df = df.append(df1, ignore_index = True)\n",
    "    return df\n",
    "        \n",
    "\n",
    "similar(\"451217454\")\n"
   ]
  },
  {
   "cell_type": "code",
   "execution_count": null,
   "metadata": {},
   "outputs": [],
   "source": []
  },
  {
   "cell_type": "code",
   "execution_count": 61,
   "metadata": {},
   "outputs": [],
   "source": []
  },
  {
   "cell_type": "code",
   "execution_count": 62,
   "metadata": {},
   "outputs": [],
   "source": []
  },
  {
   "cell_type": "code",
   "execution_count": 63,
   "metadata": {},
   "outputs": [],
   "source": []
  },
  {
   "cell_type": "code",
   "execution_count": null,
   "metadata": {},
   "outputs": [],
   "source": []
  },
  {
   "cell_type": "code",
   "execution_count": null,
   "metadata": {},
   "outputs": [],
   "source": []
  },
  {
   "cell_type": "code",
   "execution_count": null,
   "metadata": {},
   "outputs": [],
   "source": []
  },
  {
   "cell_type": "code",
   "execution_count": null,
   "metadata": {},
   "outputs": [],
   "source": []
  }
 ],
 "metadata": {
  "kernelspec": {
   "display_name": "Python 3",
   "language": "python",
   "name": "python3"
  },
  "language_info": {
   "codemirror_mode": {
    "name": "ipython",
    "version": 3
   },
   "file_extension": ".py",
   "mimetype": "text/x-python",
   "name": "python",
   "nbconvert_exporter": "python",
   "pygments_lexer": "ipython3",
   "version": "3.8.5"
  }
 },
 "nbformat": 4,
 "nbformat_minor": 4
}
